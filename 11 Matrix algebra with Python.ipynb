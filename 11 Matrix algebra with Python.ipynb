{
 "cells": [
  {
   "cell_type": "markdown",
   "metadata": {
    "hide_cell": true
   },
   "source": [
    "<span class='note'><i>Make me look good.</i> Click on the cell below and press <kbd>Ctrl</kbd>+<kbd>Enter</kbd>.</span>"
   ]
  },
  {
   "cell_type": "code",
   "execution_count": null,
   "metadata": {
    "hide_cell": true
   },
   "outputs": [],
   "source": [
    "from IPython.core.display import HTML\n",
    "HTML(open('css/custom.css', 'r').read())"
   ]
  },
  {
   "cell_type": "markdown",
   "metadata": {
    "hide_cell": true
   },
   "source": [
    "<h5 class='prehead'>SM286D &middot; Introduction to Applied Mathematics with Python &middot; Spring 2020 &middot; Uhan</h5>\n",
    "\n",
    "<h5 class='lesson'>Lesson 11.</h5>\n",
    "\n",
    "<h1 class='lesson_title'>Matrix algebra with Python</h1>"
   ]
  },
  {
   "cell_type": "markdown",
   "metadata": {},
   "source": [
    "## This lesson..."
   ]
  },
  {
   "cell_type": "markdown",
   "metadata": {},
   "source": [
    "- Matrix algebra with NumPy"
   ]
  },
  {
   "cell_type": "markdown",
   "metadata": {},
   "source": [
    "---"
   ]
  },
  {
   "cell_type": "markdown",
   "metadata": {},
   "source": [
    "## What is NumPy?"
   ]
  },
  {
   "cell_type": "markdown",
   "metadata": {},
   "source": [
    "- __NumPy__ is the fundamental scientific computing package for Python.\n",
    "\n",
    "- Numerous scientific and mathematical packages for Python use NumPy, including __pandas__ (data analysis and wrangling) and __scikit-learn__ (machine learning).\n",
    "\n",
    "- Let's start by importing NumPy:"
   ]
  },
  {
   "cell_type": "code",
   "execution_count": null,
   "metadata": {},
   "outputs": [],
   "source": [
    "import numpy as np"
   ]
  },
  {
   "cell_type": "markdown",
   "metadata": {},
   "source": [
    "---"
   ]
  },
  {
   "cell_type": "markdown",
   "metadata": {},
   "source": [
    "## NumPy arrays"
   ]
  },
  {
   "cell_type": "markdown",
   "metadata": {},
   "source": [
    "- The main data structure in NumPy is the __array__. Arrays are typically used to represent matrices.\n",
    "\n",
    "- We can create a one-dimensional array like this:"
   ]
  },
  {
   "cell_type": "code",
   "execution_count": null,
   "metadata": {},
   "outputs": [],
   "source": [
    "# Create one-dimensional array\n",
    "a = np.array([2, 3, 4])\n",
    "\n",
    "# Print the array\n",
    "print(a)\n",
    "\n",
    "# Check the type of the array\n",
    "print(type(a))"
   ]
  },
  {
   "cell_type": "markdown",
   "metadata": {},
   "source": [
    "- Similarly, we can create a two-dimensional array like this:"
   ]
  },
  {
   "cell_type": "code",
   "execution_count": null,
   "metadata": {},
   "outputs": [],
   "source": [
    "# Create two-dimensional array\n",
    "b = np.array([[1, 2], [3, 4]])\n",
    "\n",
    "# Print the array\n",
    "print(b)\n",
    "\n",
    "# Check the type of the array\n",
    "print(type(b))"
   ]
  },
  {
   "cell_type": "markdown",
   "metadata": {},
   "source": [
    "- We can access and change values of an array like this:"
   ]
  },
  {
   "cell_type": "code",
   "execution_count": null,
   "metadata": {},
   "outputs": [],
   "source": [
    "# Print element of a\n",
    "print(a[1])\n",
    "\n",
    "# Change element of a\n",
    "a[2] = 0\n",
    "print(a)"
   ]
  },
  {
   "cell_type": "code",
   "execution_count": null,
   "metadata": {},
   "outputs": [],
   "source": [
    "# Print element of b\n",
    "print(b[1, 0])\n",
    "\n",
    "# Change element of b\n",
    "b[0, 1] = 100\n",
    "print(b)"
   ]
  },
  {
   "cell_type": "markdown",
   "metadata": {},
   "source": [
    "---"
   ]
  },
  {
   "cell_type": "markdown",
   "metadata": {},
   "source": [
    "## Some basic Numpy array methods and attributes"
   ]
  },
  {
   "cell_type": "markdown",
   "metadata": {},
   "source": [
    "- NumPy arrays have a number of useful methods and attributes.\n",
    "\n",
    "- Learn about some of the more common of these methods by answering the questions below.\n",
    "\n",
    "- If you're stuck or have doubts, [try searching the documentation.](https://docs.scipy.org/doc/numpy/index.html) \n",
    "    - Wading through the documentation can be hard at first but you'll get better at reading documentation with practice. "
   ]
  },
  {
   "cell_type": "markdown",
   "metadata": {},
   "source": [
    "### Question 1\n",
    "\n",
    "Run the code below. What does `np.arange` do? "
   ]
  },
  {
   "cell_type": "code",
   "execution_count": null,
   "metadata": {},
   "outputs": [],
   "source": [
    "c = np.arange(1, 4)\n",
    "print(c)"
   ]
  },
  {
   "cell_type": "markdown",
   "metadata": {},
   "source": [
    "__Write your answer here. Double-click to edit.__"
   ]
  },
  {
   "cell_type": "markdown",
   "metadata": {},
   "source": [
    "### Question 2\n",
    "\n",
    "Run the code below. What does `np.eye` do?"
   ]
  },
  {
   "cell_type": "code",
   "execution_count": null,
   "metadata": {},
   "outputs": [],
   "source": [
    "I = np.eye(4)\n",
    "print(I)"
   ]
  },
  {
   "cell_type": "markdown",
   "metadata": {},
   "source": [
    "__Write your answer here. Double-click to edit.__"
   ]
  },
  {
   "cell_type": "markdown",
   "metadata": {},
   "source": [
    "### Question 3\n",
    "\n",
    "Run the code below. What does `np.zeros()` do?"
   ]
  },
  {
   "cell_type": "code",
   "execution_count": null,
   "metadata": {},
   "outputs": [],
   "source": [
    "d = np.zeros((8,2))\n",
    "print(d)"
   ]
  },
  {
   "cell_type": "markdown",
   "metadata": {},
   "source": [
    "__Write your answer here. Double-click to edit.__"
   ]
  },
  {
   "cell_type": "markdown",
   "metadata": {},
   "source": [
    "### Question 4\n",
    "\n",
    "Run the code below. `.transpose()` is a NumPy array method. What does `.transpose()` do? Does `.transpose()` change the array permanently?"
   ]
  },
  {
   "cell_type": "code",
   "execution_count": null,
   "metadata": {
    "scrolled": true
   },
   "outputs": [],
   "source": [
    "print(d.transpose())\n",
    "print(d)"
   ]
  },
  {
   "cell_type": "markdown",
   "metadata": {},
   "source": [
    "__Write your answer here. Double-click to edit.__"
   ]
  },
  {
   "cell_type": "markdown",
   "metadata": {},
   "source": [
    "### Question 5\n",
    "\n",
    "Run the code below. `.shape` is a NumPy array attribute. What information does `.shape` give?"
   ]
  },
  {
   "cell_type": "code",
   "execution_count": null,
   "metadata": {
    "scrolled": true
   },
   "outputs": [],
   "source": [
    "print(d.shape)\n",
    "print(d.transpose().shape)"
   ]
  },
  {
   "cell_type": "markdown",
   "metadata": {},
   "source": [
    "__Write your answer here. Double-click to edit.__"
   ]
  },
  {
   "cell_type": "markdown",
   "metadata": {},
   "source": [
    "### Question 6\n",
    "\n",
    "Run the code below. `.reshape()` is a NumPy array method. What does the `.reshape()` method do? Does `.reshape()` change the array permanently?"
   ]
  },
  {
   "cell_type": "code",
   "execution_count": null,
   "metadata": {},
   "outputs": [],
   "source": [
    "e = np.arange(1, 17)\n",
    "print(e)\n",
    "\n",
    "f = e.reshape(2, 8)\n",
    "print(f)\n",
    "\n",
    "g = e.reshape(4, 4)\n",
    "print(g)"
   ]
  },
  {
   "cell_type": "markdown",
   "metadata": {},
   "source": [
    "__Write your answer here. Double-click to edit.__"
   ]
  },
  {
   "cell_type": "markdown",
   "metadata": {},
   "source": [
    "### Question 7\n",
    "\n",
    "Run the code below. What does `np.linspace()` do?"
   ]
  },
  {
   "cell_type": "code",
   "execution_count": null,
   "metadata": {},
   "outputs": [],
   "source": [
    "h = np.linspace(1, 10, 5)\n",
    "print(h)"
   ]
  },
  {
   "cell_type": "markdown",
   "metadata": {},
   "source": [
    "__Write your answer here. Double-click to edit.__"
   ]
  },
  {
   "cell_type": "markdown",
   "metadata": {},
   "source": [
    "---"
   ]
  },
  {
   "cell_type": "markdown",
   "metadata": {},
   "source": [
    "## Matrix multiplication with NumPy arrays"
   ]
  },
  {
   "cell_type": "markdown",
   "metadata": {},
   "source": [
    "- As you might expect, you can perform various matrix algebra tasks using NumPy arrays.\n",
    "\n",
    "- Let's start with matrix multiplication."
   ]
  },
  {
   "cell_type": "markdown",
   "metadata": {},
   "source": [
    "- Let\n",
    "\n",
    "$$\n",
    "A = \\begin{bmatrix}\n",
    "1 & 2 & 3\\\\\n",
    "4 & 5 & 6\n",
    "\\end{bmatrix}\n",
    "\\qquad\n",
    "B = \\begin{bmatrix}\n",
    "2\\\\\n",
    "0\\\\\n",
    "1\n",
    "\\end{bmatrix}\n",
    "$$\n",
    "\n",
    "\n",
    "- Let's define these matrices as NumPy arrays:"
   ]
  },
  {
   "cell_type": "code",
   "execution_count": null,
   "metadata": {},
   "outputs": [],
   "source": [
    "A = np.array([[1, 2, 3], [4, 5, 6]])\n",
    "B = np.array([[2], [0], [1]])\n",
    "\n",
    "print(A)\n",
    "print(B)"
   ]
  },
  {
   "cell_type": "markdown",
   "metadata": {},
   "source": [
    "- Here's one way to get $AB$:"
   ]
  },
  {
   "cell_type": "code",
   "execution_count": null,
   "metadata": {},
   "outputs": [],
   "source": [
    "print(A @ B)"
   ]
  },
  {
   "cell_type": "markdown",
   "metadata": {},
   "source": [
    "- Here's another way to get $AB$:"
   ]
  },
  {
   "cell_type": "code",
   "execution_count": null,
   "metadata": {},
   "outputs": [],
   "source": [
    "print(A.dot(B))"
   ]
  },
  {
   "cell_type": "markdown",
   "metadata": {},
   "source": [
    "- Here's yet another way to get $AB$:"
   ]
  },
  {
   "cell_type": "code",
   "execution_count": null,
   "metadata": {},
   "outputs": [],
   "source": [
    "print(np.matmul(A, B))"
   ]
  },
  {
   "cell_type": "markdown",
   "metadata": {},
   "source": [
    "- Here's one way __not__ to get $AB$:"
   ]
  },
  {
   "cell_type": "code",
   "execution_count": null,
   "metadata": {},
   "outputs": [],
   "source": [
    "print(A * B)"
   ]
  },
  {
   "cell_type": "markdown",
   "metadata": {},
   "source": [
    "- Note that `*` does __not__ perform matrix multiplication!"
   ]
  },
  {
   "cell_type": "markdown",
   "metadata": {},
   "source": [
    "- Continue your exploration of how to use NumPy arrays by answering the questions below."
   ]
  },
  {
   "cell_type": "markdown",
   "metadata": {},
   "source": [
    "### Question 8\n",
    "\n",
    "Run the code cell below. What does `*` do to an array when used with a scalar value?"
   ]
  },
  {
   "cell_type": "code",
   "execution_count": null,
   "metadata": {},
   "outputs": [],
   "source": [
    "twoi = 2 * np.eye(3)\n",
    "print(twoi)"
   ]
  },
  {
   "cell_type": "markdown",
   "metadata": {},
   "source": [
    "__Write your answer here. Double-click to edit.__"
   ]
  },
  {
   "cell_type": "markdown",
   "metadata": {},
   "source": [
    "### Question 9\n",
    "\n",
    "Run the code cell below. How do you add arrays with the same dimensions?"
   ]
  },
  {
   "cell_type": "code",
   "execution_count": null,
   "metadata": {},
   "outputs": [],
   "source": [
    "threei = twoi + np.eye(3)\n",
    "print(threei)"
   ]
  },
  {
   "cell_type": "markdown",
   "metadata": {},
   "source": [
    "__Write your answer here. Double-click to edit.__"
   ]
  },
  {
   "cell_type": "markdown",
   "metadata": {},
   "source": [
    "---"
   ]
  },
  {
   "cell_type": "markdown",
   "metadata": {},
   "source": [
    "## Determinants and inverses"
   ]
  },
  {
   "cell_type": "markdown",
   "metadata": {},
   "source": [
    "- Next, let's explore how to compute determinants and inverses with NumPy arrays."
   ]
  },
  {
   "cell_type": "markdown",
   "metadata": {},
   "source": [
    "- Let $C = \\begin{bmatrix} 1 & 2 \\\\ 4 & 5 \\end{bmatrix}$:"
   ]
  },
  {
   "cell_type": "code",
   "execution_count": null,
   "metadata": {},
   "outputs": [],
   "source": [
    "C = np.array([[1, 2], [4, 5]])"
   ]
  },
  {
   "cell_type": "markdown",
   "metadata": {},
   "source": [
    "- We can find $\\det(C)$ like this:"
   ]
  },
  {
   "cell_type": "code",
   "execution_count": null,
   "metadata": {},
   "outputs": [],
   "source": [
    "print(np.linalg.det(C))"
   ]
  },
  {
   "cell_type": "markdown",
   "metadata": {},
   "source": [
    "- We can find $C^{-1}$ like this:"
   ]
  },
  {
   "cell_type": "code",
   "execution_count": null,
   "metadata": {},
   "outputs": [],
   "source": [
    "print(np.linalg.inv(C))"
   ]
  },
  {
   "cell_type": "markdown",
   "metadata": {},
   "source": [
    "### Question 10\n",
    "\n",
    "Write code to compute $C C^{-1}$ using NumPy. Before you run your code, what do you expect to get? Now run your code. Did you get what you expected?"
   ]
  },
  {
   "cell_type": "code",
   "execution_count": null,
   "metadata": {},
   "outputs": [],
   "source": []
  },
  {
   "cell_type": "markdown",
   "metadata": {},
   "source": [
    "---"
   ]
  },
  {
   "cell_type": "markdown",
   "metadata": {},
   "source": [
    "## Solving a system of linear equations"
   ]
  },
  {
   "cell_type": "markdown",
   "metadata": {},
   "source": [
    "- Consider the system $Cx = d$, where\n",
    "\n",
    "$$\n",
    "C = \\begin{bmatrix} 1 & 2 \\\\ 4 & 5 \\end{bmatrix} \\qquad d = \\begin{bmatrix} 5 \\\\ 14 \\end{bmatrix}\n",
    "$$\n"
   ]
  },
  {
   "cell_type": "markdown",
   "metadata": {},
   "source": [
    "### Question 11\n",
    "\n",
    "Solve for $x$ by computing $C^{-1} d$."
   ]
  },
  {
   "cell_type": "code",
   "execution_count": null,
   "metadata": {},
   "outputs": [],
   "source": []
  },
  {
   "cell_type": "markdown",
   "metadata": {},
   "source": [
    "- You can also use `np.linalg.solve` like this:"
   ]
  },
  {
   "cell_type": "code",
   "execution_count": null,
   "metadata": {},
   "outputs": [],
   "source": [
    "# Solve Cx = d\n",
    "x = np.linalg.solve(C, d)\n",
    "print(x)"
   ]
  },
  {
   "cell_type": "markdown",
   "metadata": {},
   "source": [
    "---"
   ]
  },
  {
   "cell_type": "markdown",
   "metadata": {},
   "source": [
    "## Eigenvalues and eigenvectors"
   ]
  },
  {
   "cell_type": "markdown",
   "metadata": {},
   "source": [
    "- Next, let's compute the eigenvalues and eigenvectors of $C$:"
   ]
  },
  {
   "cell_type": "code",
   "execution_count": null,
   "metadata": {},
   "outputs": [],
   "source": [
    "# Note that np.linalg.eig returns 2 objects\n",
    "w, V = np.linalg.eig(C)\n",
    "\n",
    "print(f\"The eigenvalues of C are {w}.\\n\")\n",
    "print(f\"The eigenvectors of C are the column vectors of\")\n",
    "print(V)"
   ]
  },
  {
   "cell_type": "markdown",
   "metadata": {},
   "source": [
    "- Note that `np.linalg.eig` returns a tuple of 2 objects: `w` and `V`\n",
    "    - The first object `w` is a one-dimensional array of the eigenvalues. The eigenvalues are repeated according to their multiplicity.\n",
    "    - The second object `V` is a two-dimensional array of the eigenvectors: the $i$th column of `V` corresponds to the $i$th eigenvalue in `w`.\n",
    "\n",
    "- [Here is the documentation for `numpy.linalg.eig`.](https://docs.scipy.org/doc/numpy/reference/generated/numpy.linalg.eig.html?highlight=eig)"
   ]
  },
  {
   "cell_type": "markdown",
   "metadata": {},
   "source": [
    "- To get a column of a two-dimensional array, we can slice the array like this:"
   ]
  },
  {
   "cell_type": "code",
   "execution_count": null,
   "metadata": {},
   "outputs": [],
   "source": [
    "# Get the first column of the eigenvector matrix\n",
    "v0 = V[:, 0]\n",
    "print(f\"The eigenvector corresponding to {w[0]} is\")\n",
    "print(v0)\n",
    "\n",
    "# Get the second column of the eigenvector matrix\n",
    "v1 = V[:, 1]\n",
    "print(f\"\\nThe eigenvector corresponding to {w[1]} is\")\n",
    "print(v1)"
   ]
  },
  {
   "cell_type": "markdown",
   "metadata": {},
   "source": [
    "### Question 12\n",
    "\n",
    "Check if `v0` defined in the above code cell is in fact an eigenvector of $C$: compute $C v_0$ and $w_0 v_0$, and check if they are equal."
   ]
  },
  {
   "cell_type": "code",
   "execution_count": null,
   "metadata": {},
   "outputs": [],
   "source": []
  },
  {
   "cell_type": "markdown",
   "metadata": {},
   "source": [
    "### Question 13\n",
    "\n",
    "Find the eigenvalues and eigenvectors of the matrix $\\displaystyle{\\begin{bmatrix} 0 & 0 & 2 \\\\ -2 & 1 & 4 \\\\ -1 & 0 & 3 \\end{bmatrix}}$. Can you find eigenvectors with integer entries? "
   ]
  },
  {
   "cell_type": "code",
   "execution_count": null,
   "metadata": {},
   "outputs": [],
   "source": []
  },
  {
   "cell_type": "markdown",
   "metadata": {},
   "source": [
    "- The next code cell factors the matrix $C$ into a product of the form $V D V^{-1}$, where\n",
    "    - $V$ is a matrix whose columns are the eigenvectors $v_0$ and $v_1$ of $C$ (i.e. the second output from `np.linalg.eig(C)`)\n",
    "    - $D$ is a diagonal matrix whose entries are the eigenvalues $w_0$ and $w_1$ of $C$ (i.e. the first output from `np.linalg.eig(C)`)\n",
    "\n",
    "- In other words, we can factor $C$ like this:\n",
    "\\begin{equation*}\n",
    "C = \\begin{bmatrix} \\mid & \\mid \\\\ v_0 & v_1 \\\\ \\mid & \\mid \\end{bmatrix}\\; \\begin{bmatrix} w_0 & 0 \\\\ 0 & w_1 \\end{bmatrix} \\; \n",
    "\\begin{bmatrix} \\mid & \\mid \\\\ v_0 & v_1 \\\\ \\mid & \\mid \\end{bmatrix}^{-1}.\n",
    "\\end{equation*}"
   ]
  },
  {
   "cell_type": "code",
   "execution_count": null,
   "metadata": {},
   "outputs": [],
   "source": [
    "# Find the eigenvalues and eigenvectors of C\n",
    "w, V = np.linalg.eig(C)\n",
    "\n",
    "# np.diag takes a one-dimensional array and makes it into a diagonal matrix\n",
    "D = np.diag(w)\n",
    "print(D)\n",
    "\n",
    "# C should be equal to V * D * V^-1\n",
    "print(V @ D @ np.linalg.inv(V))\n",
    "print(C)"
   ]
  },
  {
   "cell_type": "markdown",
   "metadata": {},
   "source": [
    "### Question 14\n",
    "\n",
    "Factor the matrix from Question 13 as a product of the form $VDV^{-1}$, where $D$ is a diagonal matrix."
   ]
  },
  {
   "cell_type": "code",
   "execution_count": null,
   "metadata": {},
   "outputs": [],
   "source": []
  },
  {
   "cell_type": "markdown",
   "metadata": {},
   "source": [
    "---"
   ]
  },
  {
   "cell_type": "markdown",
   "metadata": {},
   "source": [
    "## Where is the RREF?"
   ]
  },
  {
   "cell_type": "markdown",
   "metadata": {},
   "source": [
    "__WARNING. The material in this section is much more advanced than the rest of the material in this lesson. We recommend skipping this section on a first pass, only coming back to it if you have extra time.__"
   ]
  },
  {
   "cell_type": "markdown",
   "metadata": {},
   "source": [
    "Now you might be interested in finding the row reduced echelon form (RREF) for a matrix; after all, that was the main tool in SM261 and we used it extensively to perform all sorts of computations. However, there is no such command in NumPy and there is a good reason for its absence. It turns out that row reduction is numerically unstable: small changes in the entries of a matrix can cause qualitative changes in its row reduction. \n",
    "\n",
    "Fortunately, almost every sensible application of row reduction can be accomplished by a numerically stable operation called the __singular value decomposition (SVD)__. The SVD of a $m \\times n$ matrix $C$ is a factorization, \n",
    "\n",
    "$$\n",
    "C = U\\Sigma V^T,\n",
    "$$ \n",
    "\n",
    "where $U$ and $V$ are orthonormal matrices (the dot product of the columns of these matrices are zero if the columns are different and 1 if the columns are equal) of sizes $m \\times m$ and $n \\times n$, respectively, and $\\Sigma$ is a block matrix whose upper left corner is a square diagonal matrix with nonzero entries on the diagonal and all other blocks are zero. The number of nonzero entries of $\\Sigma$ is the rank $r$ of $C$. To be explicit, \n",
    "\n",
    "$$\n",
    "\\Sigma = \\begin{bmatrix} \\Sigma & 0 \\\\ 0 & 0  \\end{bmatrix},\n",
    "$$ \n",
    "\n",
    "where the matrix $\\Sigma$ is an $r\\times r$ diagonal matrix, the zero to its right is a $r \\times (n-r)$ matrix, and the zero in the bottom corner is an $(m-r) \\times (n-r)$ matrix. \n",
    "\n",
    "As an example, consider the matrix \n",
    "\n",
    "$$\n",
    "C =  \\begin{bmatrix} \\phantom{-}1 & -1 \\\\ -2 & \\phantom{-}2 \\\\ \\phantom{-}2 & -2 \\end{bmatrix}.\n",
    "$$ \n",
    "\n",
    "The matrix $C$ has rank 1 and has SVD given by:\n",
    "\n",
    "\\begin{equation} \\label{svdeq} C = \\begin{bmatrix} \\phantom{-}1/3  & \\phantom{-}2/\\sqrt{5} & -2/\\sqrt{45} \\\\\n",
    "-2/3 & \\phantom{-}1/\\sqrt{5} & \\phantom{-}4/\\sqrt{45} \\\\ \\phantom{-}2/3 & \\phantom{-}0 & \\phantom{-}5/\\sqrt{45} \\end{bmatrix} \\, \\begin{bmatrix} 3/\\sqrt{2} & 0 \\\\ 0 & 0 \\\\ 0 & 0  \\end{bmatrix} \\, \\begin{bmatrix} 1/\\sqrt{2} & -1/\\sqrt{2} \\\\ 1/\\sqrt{2} & \\phantom{-}1/\\sqrt{2} \\end{bmatrix}.\\end{equation} \n",
    "\n",
    "Note that $C$ is a $3 \\times 2$ matrix, $U$ is $3 \\times 3$ and $V$ is $2 \\times 2$. "
   ]
  },
  {
   "cell_type": "markdown",
   "metadata": {},
   "source": [
    "We can recover four critical subspaces of $C$ by writing the SVD factorization in the following form\n",
    "\n",
    "$$\n",
    "C = \\begin{bmatrix} U_r & U_{r,\\perp} \\end{bmatrix} \\begin{bmatrix} S_r & 0 \\\\ 0 & 0 \\end{bmatrix} \\begin{bmatrix} V_r^T \\\\ V_{r,\\perp}^T \\end{bmatrix},\n",
    "$$\n",
    "\n",
    "where $S_r$ is an $r \\times r$ diagonal matrix with nonzero entries on the diagonal. Then \n",
    "\n",
    "$$ \n",
    "\\begin{array}{rll} \\text{range}(C) & = & \\text{range}(U_r), \\\\\n",
    "\\text{null}(C) & = & \\text{range}(V_{r,\\perp}), \\\\\n",
    "\\text{range}(C^T) & = & \\text{range}(V_r), \\\\\n",
    "\\text{null}(C^T) & = & \\text{range}(U_{r,\\perp}). \\end{array}\n",
    "$$ \n",
    "\n",
    "Recalling that the range of a matrix is the span of its columns, this gives us a way to describe each of the four key subspaces associated to a matrix $C$. Indeed, since the matrices $U$ and $V$ are orthonormal, their columns and rows form a basis for the space that they span. \n",
    "\n",
    "Let's see how some of these ideas work for our SVD of $C$. There is just one nonzero element in $\\Sigma$, so $C$ must have rank 1. Then $U_r$ should be $3 \\times 1$ ($U_r$ has $r$ columns). So a basis for the range of $C$ is the set consisting of the first column vector in $U$: \n",
    "\n",
    "$$\n",
    "\\displaystyle{\\left\\{\\begin{bmatrix} \\phantom{-}1/3 \\\\ -2/3 \\\\ \\phantom{-}2/3 \\end{bmatrix} \\right\\}}.\n",
    "$$\n",
    "\n",
    "Check that this really is the range of $C$! The null space of $C$ is the range of the matrix $V_{r,\\perp}$. The matrix $V_r^T$ is an $r \\times n$ matrix (has $r$ __rows__), meaning that the matrix $V_{r,\\perp}^T$ has size $(n-r)$ rows. That means that $V_{r,\\perp}$ has $n-r$ columns, each the transpose of one of the last $n-r$ rows of $V_{r,\\perp}^T$. Now \n",
    "\n",
    "$$\n",
    "\\begin{bmatrix} V_{r}^T \\\\ V_{r,\\perp}^T \\end{bmatrix} = \\begin{bmatrix} 1/\\sqrt{2} & -1/\\sqrt{2} \\\\ 1/\\sqrt{2} & \\phantom{-}1/\\sqrt{2} \\end{bmatrix}\n",
    "$$ \n",
    "\n",
    "so $V_{r,\\perp}^T  = \\begin{bmatrix} 1/\\sqrt{2} & \\phantom{-}1/\\sqrt{2} \\end{bmatrix}$ and $V_{r,\\perp} = \\begin{bmatrix} 1/\\sqrt{2} \\\\ 1/\\sqrt{2} \\end{bmatrix}$. A basis for the null space of $C$ is \n",
    "\n",
    "$$\n",
    "\\left\\{  \\begin{bmatrix} 1/\\sqrt{2} \\\\ 1/\\sqrt{2} \\end{bmatrix} \\right\\}\n",
    "$$. \n",
    "\n",
    "Check that this is true!  \n",
    "\n",
    "In the next code cell we compute the Singular Value Decomposition (SVD) of the matrix $C$. Note that on line 14 we learn that `vh`, the third output of `np.linalg.svd`, is already transposed: `vh` = $V^T$."
   ]
  },
  {
   "cell_type": "code",
   "execution_count": null,
   "metadata": {},
   "outputs": [],
   "source": [
    "# Define a test matrix P\n",
    "P = np.array([[1, 2, 3], [3, 2, 1], [1, 1, 1]])\n",
    "\n",
    "# Find the SVD of P\n",
    "u, s, vh = np.linalg.svd(P)\n",
    "\n",
    "print(\"The matrix U is\")\n",
    "print(u)\n",
    "\n",
    "print(\"\\nThe matrix Sigma is\")\n",
    "print(s)\n",
    "\n",
    "print(\"\\nThe matrix V^T is\")\n",
    "print(vh)\n",
    "\n",
    "# Check the factorization: this should equal P\n",
    "print(\"\\nMultiplying these together, we should get back P:\")\n",
    "print(u @ np.diag(s) @ vh)"
   ]
  },
  {
   "cell_type": "markdown",
   "metadata": {},
   "source": [
    "### Question 15\n",
    "\n",
    "(a) Compute the SVD of the matrix \n",
    "\n",
    "$$\n",
    "Q = \\begin{bmatrix} 2 & 1 & 0  &1 & 0 \\\\\n",
    " 1 & 0 & 1 & 1 & 1 \\\\\n",
    "  -1 & 1 & 1 & 0 & 1 \\\\\n",
    "  2 & 2 & 2 & 2 & 2 \\end{bmatrix}.\n",
    "$$\n",
    "\n",
    "(b) Verify that the rank $r$ of the matrix $Q$ is 3 using its SVD. \n",
    "\n",
    "(c) Find the shapes of the matrices $U$, $S$ and $V^T$.\n",
    "\n",
    "__The next three parts of this question are considered challenge material.__\n",
    "\n",
    "(d) The first $r$ columns of $U$ make up $U_r$ and the remaining columns make up $U_{r,\\perp}$. The first $r$ rows of $V^T$ make up $V_{r}^T$ and the remaining rows make up $V_{r,\\perp}^T$. Find these submatrices.\n",
    "\n",
    "(e) Find a basis for the null space of the original matrix $Q$. Does this basis have the correct number of vectors? Do your vectors live in the correct ambient space? \n",
    "\n",
    "(f) Find a basis for the range of the original matrix $Q$. Does this basis have the correct number of vectors? Do your vectors live in the correct ambient space?"
   ]
  },
  {
   "cell_type": "code",
   "execution_count": null,
   "metadata": {},
   "outputs": [],
   "source": []
  }
 ],
 "metadata": {
  "kernelspec": {
   "display_name": "Python 3",
   "language": "python",
   "name": "python3"
  },
  "language_info": {
   "codemirror_mode": {
    "name": "ipython",
    "version": 3
   },
   "file_extension": ".py",
   "mimetype": "text/x-python",
   "name": "python",
   "nbconvert_exporter": "python",
   "pygments_lexer": "ipython3",
   "version": "3.7.6"
  }
 },
 "nbformat": 4,
 "nbformat_minor": 2
}
